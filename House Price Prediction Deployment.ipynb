{
 "cells": [
  {
   "cell_type": "markdown",
   "metadata": {},
   "source": [
    "# Loading the model"
   ]
  },
  {
   "cell_type": "code",
   "execution_count": 1,
   "metadata": {},
   "outputs": [],
   "source": [
    "import pickle\n",
    "\n",
    "file = open(\"house.pkl\",\"rb\")\n",
    "clf = pickle.load(file)\n",
    "file.close()"
   ]
  },
  {
   "cell_type": "markdown",
   "metadata": {},
   "source": [
    "# Using the model"
   ]
  },
  {
   "cell_type": "code",
   "execution_count": 2,
   "metadata": {},
   "outputs": [
    {
     "name": "stdout",
     "output_type": "stream",
     "text": [
      "Enter number of bedrooms : 2\n",
      "Enter number of bathrooms : 2\n",
      "Enter living area : 1456\n",
      "Enter lot area : 1567\n",
      "Enter number of floors : 2\n",
      "Enter number of waterfront : 0\n",
      "Enter view : 2\n",
      "Enter condition (1 to 5) : 5\n",
      "Enter above area : 1234\n",
      "Enter basement area : 987\n",
      "Enter built year : 2005\n",
      "Enter renovated year : 2019\n",
      "Price : \n",
      "[588665.0799333]\n"
     ]
    }
   ],
   "source": [
    "bedrooms = float(input(\"Enter number of bedrooms : \"))\n",
    "bathrooms = float(input(\"Enter number of bathrooms : \"))\n",
    "sqft_living = int(input(\"Enter living area : \"))\n",
    "sqft_lot = int(input(\"Enter lot area : \"))\n",
    "floors = float(input(\"Enter number of floors : \"))\n",
    "waterfront = int(input(\"Enter number of waterfront : \"))\n",
    "view = int(input(\"Enter view : \"))\n",
    "condition = int(input(\"Enter condition (1 to 5) : \"))\n",
    "sqft_above = int(input(\"Enter above area : \"))\n",
    "sqft_basement = int(input(\"Enter basement area : \"))\n",
    "yr_built = int(input(\"Enter built year : \"))\n",
    "yr_renovated = int(input(\"Enter renovated year : \"))\n",
    "\n",
    "input_features = [[bedrooms,bathrooms,sqft_living,sqft_lot,floors,waterfront,view,condition,sqft_above,sqft_basement,yr_built,yr_renovated]]\n",
    "\n",
    "price_pred = clf.predict(input_features)\n",
    "\n",
    "print(\"Price : \")\n",
    "print(price_pred)"
   ]
  }
 ],
 "metadata": {
  "kernelspec": {
   "display_name": "Python 3",
   "language": "python",
   "name": "python3"
  },
  "language_info": {
   "codemirror_mode": {
    "name": "ipython",
    "version": 3
   },
   "file_extension": ".py",
   "mimetype": "text/x-python",
   "name": "python",
   "nbconvert_exporter": "python",
   "pygments_lexer": "ipython3",
   "version": "3.7.6"
  }
 },
 "nbformat": 4,
 "nbformat_minor": 4
}
